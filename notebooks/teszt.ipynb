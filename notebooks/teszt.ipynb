{
  "nbformat": 4,
  "nbformat_minor": 0,
  "metadata": {
    "kernelspec": {
      "display_name": "R",
      "language": "R",
      "name": "ir"
    },
    "language_info": {
      "codemirror_mode": "r",
      "file_extension": ".r",
      "mimetype": "text/x-r-source",
      "name": "R",
      "pygments_lexer": "r",
      "version": "3.6.3"
    },
    "colab": {
      "name": "teszt.ipynb",
      "provenance": []
    }
  },
  "cells": [
    {
      "cell_type": "code",
      "metadata": {
        "trusted": true,
        "id": "pjH7Xh4_PjVk",
        "outputId": "ed5b556b-04e5-4bff-c376-1edf9b827c6b",
        "colab": {
          "base_uri": "https://localhost:8080/"
        }
      },
      "source": [
        "install.packages(c(\"restatapi\",\"chron\"))\n",
        "library(restatapi)\n",
        "library(chron)"
      ],
      "execution_count": 3,
      "outputs": [
        {
          "output_type": "stream",
          "text": [
            "Installing packages into ‘/usr/local/lib/R/site-library’\n",
            "(as ‘lib’ is unspecified)\n",
            "\n"
          ],
          "name": "stderr"
        }
      ]
    },
    {
      "cell_type": "code",
      "metadata": {
        "trusted": true,
        "id": "dNm0FLAuPjVs",
        "outputId": "e62826e1-e93b-46f1-ed77-14ba5f238d23",
        "colab": {
          "base_uri": "https://localhost:8080/",
          "height": 430
        }
      },
      "source": [
        "dt1 <- get_eurostat_data(\"tus_00age\",filters=c(\"TIME_SP\",\"Hungary\",'T'),verbose=T)\n",
        "head(dt1)"
      ],
      "execution_count": 4,
      "outputs": [
        {
          "output_type": "stream",
          "text": [
            "0.8.10\tid%3Dtus_00age\tfilters%3Dc(\"TIME_SP\", \"Hungary\", \"T\")\tverbose%3DT\n",
            "\n",
            "Trying to download the DSD from: http://ec.europa.eu/eurostat/SDMX/diss-web/rest/datastructure/ESTAT/DSD_tus_00age\n",
            "\n",
            "Trying to extract the DSD from: /tmp/RtmpHZoMoO/file396f468f2\n",
            "\n",
            "The DSD of the tus_00age dataset was cached in memory ('tus_00age.dsd' in '.restatapi_env').\n",
            "\n",
            "\n",
            ".TIME_SP.T...HU-\n",
            "\n",
            "http://ec.europa.eu/eurostat/SDMX/diss-web/rest/data/tus_00age/.TIME_SP.T...HU/\n",
            "\n",
            "http://ec.europa.eu/eurostat/SDMX/diss-web/rest/data/tus_00age/.TIME_SP.T...HU/\n",
            "code:  - severity:\n",
            "\n",
            "\n",
            "restat - nrow:896;ncol:8;colnames:UNIT/AGE/SEX/ACL00/GEO/FREQ/obsTime/obsValue\n",
            "\n"
          ],
          "name": "stderr"
        },
        {
          "output_type": "display_data",
          "data": {
            "text/plain": [
              "     unit age sex acl00 geo time values"
            ],
            "text/latex": "A data.table: 0 × 7\n\\begin{tabular}{lllllll}\n unit & age & sex & acl00 & geo & time & values\\\\\n <fct> & <fct> & <fct> & <fct> & <fct> & <fct> & <dbl>\\\\\n\\hline\n\\end{tabular}\n",
            "text/markdown": "\nA data.table: 0 × 7\n\n| unit &lt;fct&gt; | age &lt;fct&gt; | sex &lt;fct&gt; | acl00 &lt;fct&gt; | geo &lt;fct&gt; | time &lt;fct&gt; | values &lt;dbl&gt; |\n|---|---|---|---|---|---|---|\n\n",
            "text/html": [
              "<table>\n",
              "<caption>A data.table: 0 × 7</caption>\n",
              "<thead>\n",
              "\t<tr><th scope=col>unit</th><th scope=col>age</th><th scope=col>sex</th><th scope=col>acl00</th><th scope=col>geo</th><th scope=col>time</th><th scope=col>values</th></tr>\n",
              "\t<tr><th scope=col>&lt;fct&gt;</th><th scope=col>&lt;fct&gt;</th><th scope=col>&lt;fct&gt;</th><th scope=col>&lt;fct&gt;</th><th scope=col>&lt;fct&gt;</th><th scope=col>&lt;fct&gt;</th><th scope=col>&lt;dbl&gt;</th></tr>\n",
              "</thead>\n",
              "<tbody>\n",
              "</tbody>\n",
              "</table>\n"
            ]
          },
          "metadata": {
            "tags": []
          }
        }
      ]
    },
    {
      "cell_type": "code",
      "metadata": {
        "trusted": true,
        "id": "vaI6g7pbPjVw",
        "outputId": "4396edca-fdc6-47d6-f3bc-2ee78d3565d3",
        "colab": {
          "base_uri": "https://localhost:8080/",
          "height": 247
        }
      },
      "source": [
        "id<-\"tus_00age\"\n",
        "rd<-get_eurostat_raw(id)\n",
        "dsd<-get_eurostat_dsd(id)\n",
        "ft<-create_filter_table(c(\"TIME_SP\",\"Hungary\",'T','AC1A'),FALSE,dsd)\n",
        "frd<-filter_raw_data(rd,ft)\n",
        "frd \n",
        "frd[,values:=chron::times(paste0(values,\":00\"))]\n",
        "frd[age!='TOTAL',mean(values)]"
      ],
      "execution_count": 14,
      "outputs": [
        {
          "output_type": "display_data",
          "data": {
            "text/plain": [
              "  freq unit    sex age    acl00 geo time values\n",
              "1 A    TIME_SP T   TOTAL  AC1A  HU  2010 2:23  \n",
              "2 A    TIME_SP T   Y15-20 AC1A  HU  2010 0:19  \n",
              "3 A    TIME_SP T   Y20-24 AC1A  HU  2010 1:46  \n",
              "4 A    TIME_SP T   Y20-74 AC1A  HU  2010 2:43  \n",
              "5 A    TIME_SP T   Y25-44 AC1A  HU  2010 3:49  \n",
              "6 A    TIME_SP T   Y45-64 AC1A  HU  2010 2:41  \n",
              "7 A    TIME_SP T   Y_GE65 AC1A  HU  2010 0:11  "
            ],
            "text/latex": "A data.table: 7 × 8\n\\begin{tabular}{llllllll}\n freq & unit & sex & age & acl00 & geo & time & values\\\\\n <chr> & <chr> & <chr> & <chr> & <chr> & <chr> & <chr> & <chr>\\\\\n\\hline\n\t A & TIME\\_SP & T & TOTAL  & AC1A & HU & 2010 & 2:23\\\\\n\t A & TIME\\_SP & T & Y15-20 & AC1A & HU & 2010 & 0:19\\\\\n\t A & TIME\\_SP & T & Y20-24 & AC1A & HU & 2010 & 1:46\\\\\n\t A & TIME\\_SP & T & Y20-74 & AC1A & HU & 2010 & 2:43\\\\\n\t A & TIME\\_SP & T & Y25-44 & AC1A & HU & 2010 & 3:49\\\\\n\t A & TIME\\_SP & T & Y45-64 & AC1A & HU & 2010 & 2:41\\\\\n\t A & TIME\\_SP & T & Y\\_GE65 & AC1A & HU & 2010 & 0:11\\\\\n\\end{tabular}\n",
            "text/markdown": "\nA data.table: 7 × 8\n\n| freq &lt;chr&gt; | unit &lt;chr&gt; | sex &lt;chr&gt; | age &lt;chr&gt; | acl00 &lt;chr&gt; | geo &lt;chr&gt; | time &lt;chr&gt; | values &lt;chr&gt; |\n|---|---|---|---|---|---|---|---|\n| A | TIME_SP | T | TOTAL  | AC1A | HU | 2010 | 2:23 |\n| A | TIME_SP | T | Y15-20 | AC1A | HU | 2010 | 0:19 |\n| A | TIME_SP | T | Y20-24 | AC1A | HU | 2010 | 1:46 |\n| A | TIME_SP | T | Y20-74 | AC1A | HU | 2010 | 2:43 |\n| A | TIME_SP | T | Y25-44 | AC1A | HU | 2010 | 3:49 |\n| A | TIME_SP | T | Y45-64 | AC1A | HU | 2010 | 2:41 |\n| A | TIME_SP | T | Y_GE65 | AC1A | HU | 2010 | 0:11 |\n\n",
            "text/html": [
              "<table>\n",
              "<caption>A data.table: 7 × 8</caption>\n",
              "<thead>\n",
              "\t<tr><th scope=col>freq</th><th scope=col>unit</th><th scope=col>sex</th><th scope=col>age</th><th scope=col>acl00</th><th scope=col>geo</th><th scope=col>time</th><th scope=col>values</th></tr>\n",
              "\t<tr><th scope=col>&lt;chr&gt;</th><th scope=col>&lt;chr&gt;</th><th scope=col>&lt;chr&gt;</th><th scope=col>&lt;chr&gt;</th><th scope=col>&lt;chr&gt;</th><th scope=col>&lt;chr&gt;</th><th scope=col>&lt;chr&gt;</th><th scope=col>&lt;chr&gt;</th></tr>\n",
              "</thead>\n",
              "<tbody>\n",
              "\t<tr><td>A</td><td>TIME_SP</td><td>T</td><td>TOTAL </td><td>AC1A</td><td>HU</td><td>2010</td><td>2:23</td></tr>\n",
              "\t<tr><td>A</td><td>TIME_SP</td><td>T</td><td>Y15-20</td><td>AC1A</td><td>HU</td><td>2010</td><td>0:19</td></tr>\n",
              "\t<tr><td>A</td><td>TIME_SP</td><td>T</td><td>Y20-24</td><td>AC1A</td><td>HU</td><td>2010</td><td>1:46</td></tr>\n",
              "\t<tr><td>A</td><td>TIME_SP</td><td>T</td><td>Y20-74</td><td>AC1A</td><td>HU</td><td>2010</td><td>2:43</td></tr>\n",
              "\t<tr><td>A</td><td>TIME_SP</td><td>T</td><td>Y25-44</td><td>AC1A</td><td>HU</td><td>2010</td><td>3:49</td></tr>\n",
              "\t<tr><td>A</td><td>TIME_SP</td><td>T</td><td>Y45-64</td><td>AC1A</td><td>HU</td><td>2010</td><td>2:41</td></tr>\n",
              "\t<tr><td>A</td><td>TIME_SP</td><td>T</td><td>Y_GE65</td><td>AC1A</td><td>HU</td><td>2010</td><td>0:11</td></tr>\n",
              "</tbody>\n",
              "</table>\n"
            ]
          },
          "metadata": {
            "tags": []
          }
        },
        {
          "output_type": "display_data",
          "data": {
            "text/plain": [
              "[1] 01:54:50"
            ]
          },
          "metadata": {
            "tags": []
          }
        }
      ]
    }
  ]
}